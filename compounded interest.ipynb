{
 "cells": [
  {
   "cell_type": "code",
   "execution_count": 1,
   "id": "1ea63382",
   "metadata": {},
   "outputs": [],
   "source": [
    "import numpy as np"
   ]
  },
  {
   "cell_type": "code",
   "execution_count": 2,
   "id": "fb225662",
   "metadata": {},
   "outputs": [],
   "source": [
    "r = 0.05"
   ]
  },
  {
   "cell_type": "code",
   "execution_count": 3,
   "id": "3c7921f8",
   "metadata": {},
   "outputs": [
    {
     "name": "stdout",
     "output_type": "stream",
     "text": [
      "1.05\n"
     ]
    }
   ],
   "source": [
    "print(1+r)"
   ]
  },
  {
   "cell_type": "code",
   "execution_count": 4,
   "id": "52edc908",
   "metadata": {},
   "outputs": [
    {
     "data": {
      "text/plain": [
       "1.051161897881733"
      ]
     },
     "execution_count": 4,
     "metadata": {},
     "output_type": "execute_result"
    }
   ],
   "source": [
    "(1+r/12)**12"
   ]
  },
  {
   "cell_type": "code",
   "execution_count": 5,
   "id": "abbb5621",
   "metadata": {},
   "outputs": [
    {
     "data": {
      "text/plain": [
       "1.0512674964674473"
      ]
     },
     "execution_count": 5,
     "metadata": {},
     "output_type": "execute_result"
    }
   ],
   "source": [
    "(1+r/365)**365"
   ]
  },
  {
   "cell_type": "code",
   "execution_count": 6,
   "id": "60fae3d3",
   "metadata": {},
   "outputs": [
    {
     "data": {
      "text/plain": [
       "1.0512710963760241"
      ]
     },
     "execution_count": 6,
     "metadata": {},
     "output_type": "execute_result"
    }
   ],
   "source": [
    "np.exp(r)"
   ]
  },
  {
   "cell_type": "code",
   "execution_count": 7,
   "id": "72be2a27",
   "metadata": {},
   "outputs": [
    {
     "data": {
      "text/plain": [
       "1.051269782331887"
      ]
     },
     "execution_count": 7,
     "metadata": {},
     "output_type": "execute_result"
    }
   ],
   "source": [
    "(1+r/1000)**1000"
   ]
  },
  {
   "cell_type": "code",
   "execution_count": null,
   "id": "c0a9f38f",
   "metadata": {},
   "outputs": [],
   "source": []
  }
 ],
 "metadata": {
  "kernelspec": {
   "display_name": "Python 3 (ipykernel)",
   "language": "python",
   "name": "python3"
  },
  "language_info": {
   "codemirror_mode": {
    "name": "ipython",
    "version": 3
   },
   "file_extension": ".py",
   "mimetype": "text/x-python",
   "name": "python",
   "nbconvert_exporter": "python",
   "pygments_lexer": "ipython3",
   "version": "3.9.13"
  }
 },
 "nbformat": 4,
 "nbformat_minor": 5
}
